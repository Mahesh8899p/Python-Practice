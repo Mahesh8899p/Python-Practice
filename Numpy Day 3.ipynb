{
 "cells": [
  {
   "cell_type": "code",
   "execution_count": 1,
   "id": "1cd7ed67-49ae-48df-a682-2624fc12cd15",
   "metadata": {},
   "outputs": [],
   "source": [
    "import numpy as np\n"
   ]
  },
  {
   "cell_type": "code",
   "execution_count": 2,
   "id": "8d46243f-c156-4401-9b03-afaa59cbbde8",
   "metadata": {},
   "outputs": [],
   "source": [
    "a= np.array([0,1,2,3,4])"
   ]
  },
  {
   "cell_type": "code",
   "execution_count": 4,
   "id": "8cac4a4b-fe3b-4652-9e31-969100726b69",
   "metadata": {},
   "outputs": [
    {
     "data": {
      "text/plain": [
       "numpy.ndarray"
      ]
     },
     "execution_count": 4,
     "metadata": {},
     "output_type": "execute_result"
    }
   ],
   "source": [
    "type(a)"
   ]
  },
  {
   "cell_type": "code",
   "execution_count": null,
   "id": "4df7fafd-c763-4c5d-9f5c-bd9809f006e2",
   "metadata": {},
   "outputs": [],
   "source": [
    "#indexing and slicing\n"
   ]
  },
  {
   "cell_type": "code",
   "execution_count": 5,
   "id": "2c4c06c0-07ff-4d8e-b180-a2955af23676",
   "metadata": {},
   "outputs": [],
   "source": [
    "a[0] = 100 #will change the zeroth index to 100"
   ]
  },
  {
   "cell_type": "code",
   "execution_count": 7,
   "id": "d5653e14-223b-479b-adbd-3e6f5a930144",
   "metadata": {},
   "outputs": [],
   "source": [
    "a[4] = 3 #will change the 5th element to 3\n"
   ]
  },
  {
   "cell_type": "code",
   "execution_count": 8,
   "id": "918f5b96-70ad-4c34-9d92-445875a75123",
   "metadata": {},
   "outputs": [],
   "source": [
    "d = a[1:4] #will slice the row from first index to 3rd one 4th will not be considered  and store it in d variable"
   ]
  },
  {
   "cell_type": "code",
   "execution_count": 11,
   "id": "bda65f11-5257-414c-b584-106b4285da58",
   "metadata": {},
   "outputs": [],
   "source": [
    "d[1:5] = 300,400  #this will change the values of 1st index element to 300 and will add a new elemetn"
   ]
  },
  {
   "cell_type": "code",
   "execution_count": null,
   "id": "a72521b2-87d9-402a-a31b-9cb947c577e2",
   "metadata": {},
   "outputs": [],
   "source": [
    "#numpy statistical functions"
   ]
  },
  {
   "cell_type": "code",
   "execution_count": 14,
   "id": "d220b37a-5e75-4539-a35f-45e2a933981f",
   "metadata": {},
   "outputs": [
    {
     "data": {
      "text/plain": [
       "np.float64(233.66666666666666)"
      ]
     },
     "execution_count": 14,
     "metadata": {},
     "output_type": "execute_result"
    }
   ],
   "source": [
    "#.mean() for calculation of the mean of the given data that is given here\n",
    "mean_data = d.mean()\n",
    "mean_data\n"
   ]
  },
  {
   "cell_type": "code",
   "execution_count": 15,
   "id": "497d0d56-47ea-4208-8c8e-081cd8cee913",
   "metadata": {},
   "outputs": [
    {
     "data": {
      "text/plain": [
       "np.float64(169.50975062088773)"
      ]
     },
     "execution_count": 15,
     "metadata": {},
     "output_type": "execute_result"
    }
   ],
   "source": [
    "# .std() for calculating the standard deviation of the given data\n",
    "standard_deviation = d.std()\n",
    "standard_deviation"
   ]
  },
  {
   "cell_type": "code",
   "execution_count": 17,
   "id": "ca703eb2-33e6-4248-872b-13d117219273",
   "metadata": {},
   "outputs": [
    {
     "data": {
      "text/plain": [
       "np.int64(400)"
      ]
     },
     "execution_count": 17,
     "metadata": {},
     "output_type": "execute_result"
    }
   ],
   "source": [
    "# .max() for finding the max value or the biggest value in  the numpy array \n",
    "max_value = d.max()\n",
    "max_value"
   ]
  },
  {
   "cell_type": "code",
   "execution_count": 18,
   "id": "98595905-8761-4079-bfba-b44240fcb86f",
   "metadata": {},
   "outputs": [
    {
     "data": {
      "text/plain": [
       "np.int64(1)"
      ]
     },
     "execution_count": 18,
     "metadata": {},
     "output_type": "execute_result"
    }
   ],
   "source": [
    "min_value = d.min()\n",
    "min_value"
   ]
  },
  {
   "cell_type": "code",
   "execution_count": 19,
   "id": "8b68396a-39dd-45c4-b6bd-90e8d611a2f6",
   "metadata": {},
   "outputs": [],
   "source": [
    "u = np.array([1,2,3])"
   ]
  },
  {
   "cell_type": "code",
   "execution_count": 20,
   "id": "d51c4534-8ad3-4ec6-9331-fa05aa74a5e3",
   "metadata": {},
   "outputs": [],
   "source": [
    "v = np.array([2,3,4])"
   ]
  },
  {
   "cell_type": "code",
   "execution_count": 22,
   "id": "afda8329-4e60-4029-94d7-21850a286f96",
   "metadata": {},
   "outputs": [
    {
     "data": {
      "text/plain": [
       "array([3, 5, 7])"
      ]
     },
     "execution_count": 22,
     "metadata": {},
     "output_type": "execute_result"
    }
   ],
   "source": [
    "#numpy array addition .add() or vector addition\n",
    "z = np.add(u,v)\n",
    "z"
   ]
  },
  {
   "cell_type": "code",
   "execution_count": 24,
   "id": "03ed623f-d2fe-4515-af01-0ed5dac80ad4",
   "metadata": {},
   "outputs": [
    {
     "data": {
      "text/plain": [
       "array([1, 1, 1])"
      ]
     },
     "execution_count": 24,
     "metadata": {},
     "output_type": "execute_result"
    }
   ],
   "source": [
    "#numpy array subtraction .subtract() or vector subtraction\n",
    "z = np.subtract(v,u)\n",
    "z"
   ]
  },
  {
   "cell_type": "code",
   "execution_count": 25,
   "id": "50ff4fce-1d19-4c87-8c1c-416f446b9696",
   "metadata": {},
   "outputs": [
    {
     "data": {
      "text/plain": [
       "array([ 2,  6, 12])"
      ]
     },
     "execution_count": 25,
     "metadata": {},
     "output_type": "execute_result"
    }
   ],
   "source": [
    "#numpy array multiplication .multiply() or vector multiply\n",
    "z = np.multiply(u,v)\n",
    "z"
   ]
  },
  {
   "cell_type": "code",
   "execution_count": null,
   "id": "8cb5b417-fa4e-4015-8517-24228b9e063b",
   "metadata": {},
   "outputs": [],
   "source": [
    "#numpy array division .divide() or vector divide\n"
   ]
  },
  {
   "cell_type": "code",
   "execution_count": 26,
   "id": "1c442bda-a4ab-4fcd-91e1-fa7b9de37430",
   "metadata": {},
   "outputs": [
    {
     "data": {
      "text/plain": [
       "array([0.5       , 0.66666667, 0.75      ])"
      ]
     },
     "execution_count": 26,
     "metadata": {},
     "output_type": "execute_result"
    }
   ],
   "source": [
    "z = np.divide(u,v)\n",
    "z"
   ]
  },
  {
   "cell_type": "code",
   "execution_count": 28,
   "id": "9ef8c443-2160-4e2b-802d-77310348fd49",
   "metadata": {},
   "outputs": [
    {
     "data": {
      "text/plain": [
       "np.int64(20)"
      ]
     },
     "execution_count": 28,
     "metadata": {},
     "output_type": "execute_result"
    }
   ],
   "source": [
    "#numpy array dot product .dot() or vector dot product\n",
    "z = np.dot(u,v)\n",
    "z"
   ]
  },
  {
   "cell_type": "code",
   "execution_count": 29,
   "id": "a5910e78-4081-4efd-848c-94a9c0f51d46",
   "metadata": {},
   "outputs": [
    {
     "data": {
      "text/plain": [
       "array([2, 3, 4])"
      ]
     },
     "execution_count": 29,
     "metadata": {},
     "output_type": "execute_result"
    }
   ],
   "source": [
    "#adding the constant to the Numpy array\n",
    "u = np.array([1,2,3])\n",
    "u+1\n",
    "#1 will be adding to every element of the array "
   ]
  },
  {
   "cell_type": "code",
   "execution_count": 30,
   "id": "dad1fab7-5098-4066-953d-2bdb40421da6",
   "metadata": {},
   "outputs": [
    {
     "data": {
      "text/plain": [
       "3.141592653589793"
      ]
     },
     "execution_count": 30,
     "metadata": {},
     "output_type": "execute_result"
    }
   ],
   "source": [
    "np.pi"
   ]
  },
  {
   "cell_type": "code",
   "execution_count": 32,
   "id": "ff218cb1-6318-4fb3-afda-b620f4453714",
   "metadata": {},
   "outputs": [
    {
     "data": {
      "text/plain": [
       "array([0.        , 1.57079633, 3.14159265])"
      ]
     },
     "execution_count": 32,
     "metadata": {},
     "output_type": "execute_result"
    }
   ],
   "source": [
    "x = np.array([0, np.pi/2 , np.pi])\n",
    "x"
   ]
  },
  {
   "cell_type": "code",
   "execution_count": 33,
   "id": "f1b99f2c-af80-4bae-acb6-ca84eaf85d35",
   "metadata": {},
   "outputs": [
    {
     "data": {
      "text/plain": [
       "array([0.0000000e+00, 1.0000000e+00, 1.2246468e-16])"
      ]
     },
     "execution_count": 33,
     "metadata": {},
     "output_type": "execute_result"
    }
   ],
   "source": [
    "y = np.sin(x)\n",
    "y"
   ]
  },
  {
   "cell_type": "code",
   "execution_count": 36,
   "id": "b2de9523-b1af-48a0-b9f6-4449fd80ef2c",
   "metadata": {},
   "outputs": [
    {
     "data": {
      "text/plain": [
       "array([-2.        , -1.33333333, -0.66666667,  0.        ,  0.66666667,\n",
       "        1.33333333,  2.        ])"
      ]
     },
     "execution_count": 36,
     "metadata": {},
     "output_type": "execute_result"
    }
   ],
   "source": [
    "# linspace  -  useful mathematical function which is used for plotting mathematical funtions is linspace as linspace would return evenly spaced numbers\n",
    "np.linspace(-2,2,num=7)"
   ]
  },
  {
   "cell_type": "code",
   "execution_count": 37,
   "id": "e610d8e2-fd18-4bc2-b84a-16681978f2e7",
   "metadata": {},
   "outputs": [
    {
     "data": {
      "text/plain": [
       "array([ 2.        ,  2.16326531,  2.32653061,  2.48979592,  2.65306122,\n",
       "        2.81632653,  2.97959184,  3.14285714,  3.30612245,  3.46938776,\n",
       "        3.63265306,  3.79591837,  3.95918367,  4.12244898,  4.28571429,\n",
       "        4.44897959,  4.6122449 ,  4.7755102 ,  4.93877551,  5.10204082,\n",
       "        5.26530612,  5.42857143,  5.59183673,  5.75510204,  5.91836735,\n",
       "        6.08163265,  6.24489796,  6.40816327,  6.57142857,  6.73469388,\n",
       "        6.89795918,  7.06122449,  7.2244898 ,  7.3877551 ,  7.55102041,\n",
       "        7.71428571,  7.87755102,  8.04081633,  8.20408163,  8.36734694,\n",
       "        8.53061224,  8.69387755,  8.85714286,  9.02040816,  9.18367347,\n",
       "        9.34693878,  9.51020408,  9.67346939,  9.83673469, 10.        ])"
      ]
     },
     "execution_count": 37,
     "metadata": {},
     "output_type": "execute_result"
    }
   ],
   "source": [
    "y= np.linspace(2,10,num=50)"
   ]
  },
  {
   "cell_type": "code",
   "execution_count": null,
   "id": "4c752693-9f2f-4c31-9618-ae08eac75e65",
   "metadata": {},
   "outputs": [],
   "source": [
    "# .sin() to each element "
   ]
  }
 ],
 "metadata": {
  "kernelspec": {
   "display_name": "Python 3 (ipykernel)",
   "language": "python",
   "name": "python3"
  },
  "language_info": {
   "codemirror_mode": {
    "name": "ipython",
    "version": 3
   },
   "file_extension": ".py",
   "mimetype": "text/x-python",
   "name": "python",
   "nbconvert_exporter": "python",
   "pygments_lexer": "ipython3",
   "version": "3.13.5"
  }
 },
 "nbformat": 4,
 "nbformat_minor": 5
}
